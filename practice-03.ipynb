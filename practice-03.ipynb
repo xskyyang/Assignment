{
 "cells": [
  {
   "cell_type": "markdown",
   "metadata": {},
   "source": [
    "定义 generate_best 函数，该函数输入一个语法 + 语言模型，能够生成n个句子，并能选择一个最合理的句子:"
   ]
  },
  {
   "cell_type": "code",
   "execution_count": null,
   "metadata": {
    "collapsed": true
   },
   "outputs": [],
   "source": [
    "import random\n",
    "import numpy as np\n",
    "import jieba\n",
    "from collections import Counter\n",
    "\n",
    "def generate_best(InitGram, SenNum):\n",
    "    document = generate_n(InitGram, SenNum)#输入语法和n，可以直接生成文档,建议n取10000+\n",
    "\n",
    "    max_length = 10000\n",
    "    sub_file = document[:max_length]\n",
    "    TOKENS = cut(sub_file)\n",
    "    words_count = Counter(TOKENS)\n",
    "    _2_gram_words = [\n",
    "    TOKENS[i] + TOKENS[i+1] for i in range(len(TOKENS)-1)]# wiwi+1，这两个词组合在一起\n",
    "    _2_gram_word_counts = Counter(_2_gram_words)#wiwi+1同时出现的次数\n",
    "    gram_model = []\n",
    "    gram_model.append(two_gram_model(_2_gram_words))\n",
    "\n",
    "    ordered_list = sorted(gram_model[i])\n",
    "    rational_sen = ordered_list[-1]\n",
    "    return rational_sen\n",
    "    \n",
    "def generate_n(InitGram, SenNum):\n",
    "    return ''.join(get_generation_by_gram(init_gram, target = 'init_gram', stmt_split = '=') for i in range(SenNum))\n",
    "\n",
    "def get_generation_by_gram(grammar_str: str, target, stmt_split = '=', or_split = '|'):\n",
    "    rules = dict() #key is the @statement, value is @expression\n",
    "    for line in grammar_str.split('\\n'):\n",
    "        if not line: continue\n",
    "        #skip the empty line\n",
    "        #print(line)\n",
    "        stmt, expr = line.split(stmt_split)\n",
    "        \n",
    "        rules[stmt.strip()] = expr.split(or_split)\n",
    "    generated = generate(rules, target = target)\n",
    "    \n",
    "    return generated\n",
    "\n",
    "def generate(grammar_rule, target):\n",
    "    if target in grammar_rule:\n",
    "        candidates = grammar_rule[target]\n",
    "        candidate = random.choice(candidates)\n",
    "        return ''.join(generate(grammar_rule, target = c.strip()) for c in candidate.split())\n",
    "    else:\n",
    "        return target\n",
    "    \n",
    "sen_num = int(input(\"please input the total number of sentences: \"))\n",
    "\n",
    "init_gram =  \"\"\"\n",
    "init_gram = 职业 在 地点 工作内容\n",
    "职业 = 学生 | 教师 | 医生 | 程序员 | 商人\n",
    "地点 = 学校 | 医院 | 车站 | 科技园 | 商场\n",
    "工作内容 = 学习 | 教书 | 看病 | 写代码 | 工作\n",
    "\"\"\"\n",
    "generate_n(init_gram, sen_num)\n",
    "\n",
    "def get_gram_count(word, wc):\n",
    "    if word in wc: return wc[word]\n",
    "    else:\n",
    "        return wc.most_common()[-1][-1]\n",
    "\n",
    "\n",
    "def two_gram_model(sentence):\n",
    "    #2-gram language model\n",
    "    tokens = cut(sentence)\n",
    "    \n",
    "    probability = 1\n",
    "    \n",
    "    for i in range(len(tokens)-1):\n",
    "        word = tokens[i]\n",
    "        next_word = tokens[i+1]\n",
    "        \n",
    "        \n",
    "        _two_gram_c = get_gram_count(word + next_word, _2_gram_word_counts)\n",
    "        _one_gram_c = get_gram_count(word, words_count)\n",
    "        pro = _two_gram_c / _one_gram_c\n",
    "        \n",
    "        probability *= pro\n",
    "        \n",
    "    return probability\n",
    "\n",
    "def cut(string):\n",
    "    return list(jieba.cut(string))\n",
    "\n",
    "generate_best(init_gram, sen_num)"
   ]
  },
  {
   "cell_type": "markdown",
   "metadata": {},
   "source": [
    "注：代码还存在点问题，截止时间快到了，我先这样提交，之后自己再琢磨琢磨！"
   ]
  }
 ],
 "metadata": {
  "kernelspec": {
   "display_name": "Python [conda env:anaconda3]",
   "language": "python",
   "name": "conda-env-anaconda3-py"
  },
  "language_info": {
   "codemirror_mode": {
    "name": "ipython",
    "version": 3
   },
   "file_extension": ".py",
   "mimetype": "text/x-python",
   "name": "python",
   "nbconvert_exporter": "python",
   "pygments_lexer": "ipython3",
   "version": "3.5.4"
  },
  "toc": {
   "base_numbering": 1,
   "nav_menu": {},
   "number_sections": true,
   "sideBar": true,
   "skip_h1_title": false,
   "title_cell": "Table of Contents",
   "title_sidebar": "Contents",
   "toc_cell": false,
   "toc_position": {},
   "toc_section_display": true,
   "toc_window_display": false
  }
 },
 "nbformat": 4,
 "nbformat_minor": 2
}
